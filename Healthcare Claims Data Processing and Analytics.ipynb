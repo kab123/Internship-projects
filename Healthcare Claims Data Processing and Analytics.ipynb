{
 "cells": [
  {
   "cell_type": "code",
   "execution_count": 0,
   "metadata": {
    "application/vnd.databricks.v1+cell": {
     "cellMetadata": {
      "byteLimit": 2048000,
      "rowLimit": 10000
     },
     "inputWidgets": {},
     "nuid": "52e29956-e761-4e73-b7ce-ab40d1343229",
     "showTitle": false,
     "tableResultSettingsMap": {},
     "title": ""
    }
   },
   "outputs": [],
   "source": [
    "# ────────────────────────────────────────────────────────────────\n",
    "# 0 · CONFIG & PATHS  ➜  edit volume_base if you used another name\n",
    "# ────────────────────────────────────────────────────────────────\n",
    "spark.conf.set(\"spark.sql.shuffle.partitions\", 200)\n",
    "\n",
    "volume_base      = \"/Volumes/workspace/default/my_volume\"   # <— CHANGE if needed\n",
    "file_path        = f\"{volume_base}/diabetic_data.csv\"\n",
    "export_base      = f\"{volume_base}/exports\"\n",
    "partitioned_path = f\"{volume_base}/diabetic_delta\"\n"
   ]
  },
  {
   "cell_type": "code",
   "execution_count": 0,
   "metadata": {
    "application/vnd.databricks.v1+cell": {
     "cellMetadata": {
      "byteLimit": 2048000,
      "rowLimit": 10000
     },
     "inputWidgets": {},
     "nuid": "8362c1de-6971-4792-821f-cc99fc7b664b",
     "showTitle": false,
     "tableResultSettingsMap": {},
     "title": ""
    }
   },
   "outputs": [
    {
     "output_type": "stream",
     "name": "stdout",
     "output_type": "stream",
     "text": [
      "root\n |-- encounter_id: integer (nullable = true)\n |-- patient_nbr: integer (nullable = true)\n |-- race: string (nullable = true)\n |-- gender: string (nullable = true)\n |-- age: string (nullable = true)\n |-- weight: string (nullable = true)\n |-- admission_type_id: integer (nullable = true)\n |-- discharge_disposition_id: integer (nullable = true)\n |-- admission_source_id: integer (nullable = true)\n |-- time_in_hospital: integer (nullable = true)\n |-- payer_code: string (nullable = true)\n |-- medical_specialty: string (nullable = true)\n |-- num_lab_procedures: integer (nullable = true)\n |-- num_procedures: integer (nullable = true)\n |-- num_medications: integer (nullable = true)\n |-- number_outpatient: integer (nullable = true)\n |-- number_emergency: integer (nullable = true)\n |-- number_inpatient: integer (nullable = true)\n |-- diag_1: string (nullable = true)\n |-- diag_2: string (nullable = true)\n |-- diag_3: string (nullable = true)\n |-- number_diagnoses: integer (nullable = true)\n |-- max_glu_serum: string (nullable = true)\n |-- A1Cresult: string (nullable = true)\n |-- metformin: string (nullable = true)\n |-- repaglinide: string (nullable = true)\n |-- nateglinide: string (nullable = true)\n |-- chlorpropamide: string (nullable = true)\n |-- glimepiride: string (nullable = true)\n |-- acetohexamide: string (nullable = true)\n |-- glipizide: string (nullable = true)\n |-- glyburide: string (nullable = true)\n |-- tolbutamide: string (nullable = true)\n |-- pioglitazone: string (nullable = true)\n |-- rosiglitazone: string (nullable = true)\n |-- acarbose: string (nullable = true)\n |-- miglitol: string (nullable = true)\n |-- troglitazone: string (nullable = true)\n |-- tolazamide: string (nullable = true)\n |-- examide: string (nullable = true)\n |-- citoglipton: string (nullable = true)\n |-- insulin: string (nullable = true)\n |-- glyburide-metformin: string (nullable = true)\n |-- glipizide-metformin: string (nullable = true)\n |-- glimepiride-pioglitazone: string (nullable = true)\n |-- metformin-rosiglitazone: string (nullable = true)\n |-- metformin-pioglitazone: string (nullable = true)\n |-- change: string (nullable = true)\n |-- diabetesMed: string (nullable = true)\n |-- readmitted: string (nullable = true)\n\n+------------+-----------+---------------+------+-------+------+-----------------+------------------------+-------------------+----------------+----------+--------------------+------------------+--------------+---------------+-----------------+----------------+----------------+------+------+------+----------------+-------------+---------+---------+-----------+-----------+--------------+-----------+-------------+---------+---------+-----------+------------+-------------+--------+--------+------------+----------+-------+-----------+-------+-------------------+-------------------+------------------------+-----------------------+----------------------+------+-----------+----------+\n|encounter_id|patient_nbr|           race|gender|    age|weight|admission_type_id|discharge_disposition_id|admission_source_id|time_in_hospital|payer_code|   medical_specialty|num_lab_procedures|num_procedures|num_medications|number_outpatient|number_emergency|number_inpatient|diag_1|diag_2|diag_3|number_diagnoses|max_glu_serum|A1Cresult|metformin|repaglinide|nateglinide|chlorpropamide|glimepiride|acetohexamide|glipizide|glyburide|tolbutamide|pioglitazone|rosiglitazone|acarbose|miglitol|troglitazone|tolazamide|examide|citoglipton|insulin|glyburide-metformin|glipizide-metformin|glimepiride-pioglitazone|metformin-rosiglitazone|metformin-pioglitazone|change|diabetesMed|readmitted|\n+------------+-----------+---------------+------+-------+------+-----------------+------------------------+-------------------+----------------+----------+--------------------+------------------+--------------+---------------+-----------------+----------------+----------------+------+------+------+----------------+-------------+---------+---------+-----------+-----------+--------------+-----------+-------------+---------+---------+-----------+------------+-------------+--------+--------+------------+----------+-------+-----------+-------+-------------------+-------------------+------------------------+-----------------------+----------------------+------+-----------+----------+\n|     2278392|    8222157|      Caucasian|Female| [0-10)|     ?|                6|                      25|                  1|               1|         ?|Pediatrics-Endocr...|                41|             0|              1|                0|               0|               0|250.83|     ?|     ?|               1|         None|     None|       No|         No|         No|            No|         No|           No|       No|       No|         No|          No|           No|      No|      No|          No|        No|     No|         No|     No|                 No|                 No|                      No|                     No|                    No|    No|         No|        NO|\n|      149190|   55629189|      Caucasian|Female|[10-20)|     ?|                1|                       1|                  7|               3|         ?|                   ?|                59|             0|             18|                0|               0|               0|   276|250.01|   255|               9|         None|     None|       No|         No|         No|            No|         No|           No|       No|       No|         No|          No|           No|      No|      No|          No|        No|     No|         No|     Up|                 No|                 No|                      No|                     No|                    No|    Ch|        Yes|       >30|\n|       64410|   86047875|AfricanAmerican|Female|[20-30)|     ?|                1|                       1|                  7|               2|         ?|                   ?|                11|             5|             13|                2|               0|               1|   648|   250|   V27|               6|         None|     None|       No|         No|         No|            No|         No|           No|   Steady|       No|         No|          No|           No|      No|      No|          No|        No|     No|         No|     No|                 No|                 No|                      No|                     No|                    No|    No|        Yes|        NO|\n|      500364|   82442376|      Caucasian|  Male|[30-40)|     ?|                1|                       1|                  7|               2|         ?|                   ?|                44|             1|             16|                0|               0|               0|     8|250.43|   403|               7|         None|     None|       No|         No|         No|            No|         No|           No|       No|       No|         No|          No|           No|      No|      No|          No|        No|     No|         No|     Up|                 No|                 No|                      No|                     No|                    No|    Ch|        Yes|        NO|\n|       16680|   42519267|      Caucasian|  Male|[40-50)|     ?|                1|                       1|                  7|               1|         ?|                   ?|                51|             0|              8|                0|               0|               0|   197|   157|   250|               5|         None|     None|       No|         No|         No|            No|         No|           No|   Steady|       No|         No|          No|           No|      No|      No|          No|        No|     No|         No| Steady|                 No|                 No|                      No|                     No|                    No|    Ch|        Yes|        NO|\n+------------+-----------+---------------+------+-------+------+-----------------+------------------------+-------------------+----------------+----------+--------------------+------------------+--------------+---------------+-----------------+----------------+----------------+------+------+------+----------------+-------------+---------+---------+-----------+-----------+--------------+-----------+-------------+---------+---------+-----------+------------+-------------+--------+--------+------------+----------+-------+-----------+-------+-------------------+-------------------+------------------------+-----------------------+----------------------+------+-----------+----------+\nonly showing top 5 rows\n"
     ]
    }
   ],
   "source": [
    "# ────────────────────────────────────────────────────────────────\n",
    "# 1 · DATA INGESTION\n",
    "# ────────────────────────────────────────────────────────────────\n",
    "raw_df = (spark.read\n",
    "          .option(\"header\", True)\n",
    "          .option(\"inferSchema\", True)\n",
    "          .csv(file_path))\n",
    "\n",
    "raw_df.printSchema()\n",
    "raw_df.show(5)\n"
   ]
  },
  {
   "cell_type": "code",
   "execution_count": 0,
   "metadata": {
    "application/vnd.databricks.v1+cell": {
     "cellMetadata": {
      "byteLimit": 2048000,
      "rowLimit": 10000
     },
     "inputWidgets": {},
     "nuid": "c28c0330-ed31-42a0-ac52-3f859203a595",
     "showTitle": false,
     "tableResultSettingsMap": {},
     "title": ""
    }
   },
   "outputs": [],
   "source": [
    "# ────────────────────────────────────────────────────────────────\n",
    "# 2 · DATA CLEANSING\n",
    "# ────────────────────────────────────────────────────────────────\n",
    "from pyspark.sql import functions as F\n",
    "\n",
    "string_cols = [c for c,t in raw_df.dtypes if t == \"string\"]\n",
    "clean_df = raw_df.select(\n",
    "    *[F.when(F.col(c)==\"?\", None).otherwise(F.col(c)).alias(c) for c in string_cols],\n",
    "    *[c for c,t in raw_df.dtypes if t != \"string\"]\n",
    ").filter(~F.col(\"gender\").isin(\"Unknown/Invalid\"))\n"
   ]
  },
  {
   "cell_type": "code",
   "execution_count": 0,
   "metadata": {
    "application/vnd.databricks.v1+cell": {
     "cellMetadata": {
      "byteLimit": 2048000,
      "rowLimit": 10000
     },
     "inputWidgets": {},
     "nuid": "80267282-cc27-4ae9-88f2-c94843cb8962",
     "showTitle": false,
     "tableResultSettingsMap": {},
     "title": ""
    }
   },
   "outputs": [],
   "source": [
    "# ────────────────────────────────────────────────────────────────\n",
    "# 3 · DATA TRANSFORMATION\n",
    "# ────────────────────────────────────────────────────────────────\n",
    "admission_type_map = {\n",
    "    1:\"Emergency\",2:\"Urgent\",3:\"Elective\",4:\"Newborn\",\n",
    "    5:\"Not Available\",6:\"NULL\",7:\"Trauma Center\",8:\"Not Mapped\"\n",
    "}\n",
    "map_expr = F.create_map([F.lit(x) for kv in admission_type_map.items() for x in kv])\n",
    "\n",
    "tf_df = (clean_df\n",
    "         .withColumn(\"admission_type\", map_expr[F.col(\"admission_type_id\")])\n",
    "         .withColumn(\"total_visits\",\n",
    "                     F.col(\"number_outpatient\")+F.col(\"number_emergency\")+F.col(\"number_inpatient\"))\n",
    "         .withColumn(\"readmission_flag\",\n",
    "                     F.when(F.col(\"readmitted\").isin(\"<30\",\">30\"),1).otherwise(0)))\n"
   ]
  },
  {
   "cell_type": "code",
   "execution_count": 0,
   "metadata": {
    "application/vnd.databricks.v1+cell": {
     "cellMetadata": {
      "byteLimit": 2048000,
      "rowLimit": 10000
     },
     "inputWidgets": {},
     "nuid": "a5751d89-22ae-4236-94c3-4eaf3972d99c",
     "showTitle": false,
     "tableResultSettingsMap": {},
     "title": ""
    }
   },
   "outputs": [],
   "source": [
    "# ────────────────────────────────────────────────────────────────\n",
    "# 4 · WRITE TO DELTA + REGISTER TABLE\n",
    "# ────────────────────────────────────────────────────────────────\n",
    "spark.sql(\"DROP TABLE IF EXISTS workspace.default.diabetic_clean\")   # clean slate\n",
    "\n",
    "(tf_df.write\n",
    "     .format(\"delta\")\n",
    "     .mode(\"overwrite\")\n",
    "     .partitionBy(\"readmission_flag\")\n",
    "     .saveAsTable(\"workspace.default.diabetic_clean\"))\n"
   ]
  },
  {
   "cell_type": "code",
   "execution_count": 0,
   "metadata": {
    "application/vnd.databricks.v1+cell": {
     "cellMetadata": {
      "byteLimit": 2048000,
      "rowLimit": 10000
     },
     "inputWidgets": {},
     "nuid": "e5588078-9974-41c3-883d-751ae88766a0",
     "showTitle": false,
     "tableResultSettingsMap": {},
     "title": ""
    }
   },
   "outputs": [],
   "source": [
    "# ────────────────────────────────────────────────────────────────\n",
    "# 5 · ANALYTICAL SUMMARIES\n",
    "# ────────────────────────────────────────────────────────────────\n",
    "los_by_age = (tf_df.groupBy(\"age\")\n",
    "                     .agg(F.round(F.avg(\"time_in_hospital\"),2).alias(\"avg_days_in_hosp\"))\n",
    "                     .orderBy(\"age\"))\n",
    "\n",
    "diag1_rates = (tf_df.groupBy(\"diag_1\")\n",
    "                      .agg(F.mean(\"readmission_flag\").alias(\"readmit_rate\"),\n",
    "                           F.count(\"*\").alias(\"cases\"))\n",
    "                      .filter(\"cases >= 500\")\n",
    "                      .orderBy(F.desc(\"readmit_rate\")))\n",
    "\n",
    "insulin_a1c = (tf_df.groupBy(\"insulin\",\"A1Cresult\")\n",
    "                      .agg(F.mean(\"readmission_flag\").alias(\"readmit_rate\"),\n",
    "                           F.count(\"*\").alias(\"cases\"))\n",
    "                      .orderBy(F.desc(\"readmit_rate\")))\n"
   ]
  },
  {
   "cell_type": "code",
   "execution_count": 0,
   "metadata": {
    "application/vnd.databricks.v1+cell": {
     "cellMetadata": {
      "byteLimit": 2048000,
      "rowLimit": 10000
     },
     "inputWidgets": {},
     "nuid": "4c3c661e-3531-4570-bc50-59f49afef347",
     "showTitle": false,
     "tableResultSettingsMap": {},
     "title": ""
    }
   },
   "outputs": [],
   "source": [
    "# ────────────────────────────────────────────────────────────────\n",
    "# 6 · EXPORT SUMMARIES AS CSV (inside the same volume)\n",
    "# ────────────────────────────────────────────────────────────────\n",
    "(los_by_age .coalesce(1).write.mode(\"overwrite\").option(\"header\",True)\n",
    "            .csv(f\"{export_base}/los_by_age\"))\n",
    "\n",
    "(diag1_rates.coalesce(1).write.mode(\"overwrite\").option(\"header\",True)\n",
    "            .csv(f\"{export_base}/diag1_rates\"))\n",
    "\n",
    "(insulin_a1c.coalesce(1).write.mode(\"overwrite\").option(\"header\",True)\n",
    "            .csv(f\"{export_base}/insulin_a1c\"))\n"
   ]
  }
 ],
 "metadata": {
  "application/vnd.databricks.v1+notebook": {
   "computePreferences": null,
   "dashboards": [],
   "environmentMetadata": {
    "base_environment": "",
    "environment_version": "2"
   },
   "inputWidgetPreferences": null,
   "language": "python",
   "notebookMetadata": {
    "pythonIndentUnit": 4
   },
   "notebookName": "Untitled Notebook 2025-07-02 14:06:00",
   "widgets": {}
  },
  "language_info": {
   "name": "python"
  }
 },
 "nbformat": 4,
 "nbformat_minor": 0
}